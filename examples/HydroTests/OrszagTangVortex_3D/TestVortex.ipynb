{
 "cells": [
  {
   "cell_type": "code",
   "execution_count": 1,
   "id": "24f7c5a9",
   "metadata": {},
   "outputs": [],
   "source": [
    "using HDF5\n",
    "using Plots"
   ]
  },
  {
   "cell_type": "code",
   "execution_count": 2,
   "id": "ee8c23ed",
   "metadata": {},
   "outputs": [],
   "source": [
    "#function make_heatmap_data(data, x, y, v)\n",
    "#    xs = unique(data[x])\n",
    "#    ys = unique(data[y])\n",
    "#    n = length(xs)\n",
    "#    m = length(ys)\n",
    "#    A = zeros((n, m))\n",
    "#    D1 = Dict(x => i for (i,x) in enumerate(xs))\n",
    "#    D2 = Dict(x => i for (i,x) in enumerate(ys))\n",
    "#    for i in 1:size(data, 1)\n",
    "#        xi = data[i, x]\n",
    "#        yi = data[i, y]\n",
    "#        vi = data[i, v]\n",
    "#        A[D1[xi], D2[yi]] = vi\n",
    "#    end\n",
    "#    (xs, ys, A)\n",
    "#end"
   ]
  },
  {
   "cell_type": "code",
   "execution_count": 5,
   "id": "a6e63e33",
   "metadata": {
    "scrolled": true
   },
   "outputs": [
    {
     "data": {
      "text/plain": [
       "\"OrszagTangVortex_0008.hdf5\""
      ]
     },
     "execution_count": 5,
     "metadata": {},
     "output_type": "execute_result"
    }
   ],
   "source": [
    "filename = \"OrszagTangVortex_0008.hdf5\"\n",
    "\n",
    "#print(\"Time Base: \",head_base[\"Time\"])\n",
    "#fop = h5open(filename,\"r\")"
   ]
  },
  {
   "cell_type": "code",
   "execution_count": 8,
   "id": "5078c2b3",
   "metadata": {},
   "outputs": [
    {
     "name": "stdout",
     "output_type": "stream",
     "text": [
      "Time: [0.7999999999999999]"
     ]
    }
   ],
   "source": [
    "pos = h5read(filename,\"PartType0/Coordinates\")\n",
    "Bfl = h5read(filename,\"PartType0/Bfield\") \n",
    "Vel = h5read(filename,\"PartType0/Velocities\")\n",
    "#alp = h5read(filename,\"PartType0/EPalpha\")\n",
    "#bet = h5read(filename,\"PartType0/EPbeta\")\n",
    "Ids = h5read(filename,\"PartType0/ParticleIDs\")\n",
    "h   = h5read(filename,\"PartType0/SmoothingLengths\")\n",
    "rho = h5read(filename,\"PartType0/Densities\")\n",
    "head= h5readattr(filename,\"Header\")\n",
    "print(\"Time: \",head[\"Time\"])"
   ]
  },
  {
   "cell_type": "code",
   "execution_count": 9,
   "id": "948b21da",
   "metadata": {},
   "outputs": [
    {
     "data": {
      "text/plain": [
       "262144"
      ]
     },
     "execution_count": 9,
     "metadata": {},
     "output_type": "execute_result"
    }
   ],
   "source": [
    "x = pos[1,:]\n",
    "y = pos[2,:]\n",
    "z = pos[3,:]\n",
    "bx = Bfl[1,:]\n",
    "by = Bfl[2,:]\n",
    "bz = Bfl[3,:]\n",
    "Vx = Vel[1,:]\n",
    "Vy = Vel[2,:]\n",
    "Vz = Vel[3,:]\n",
    "\n",
    "\n",
    "v2 = Vx.*Vx.+Vy.*Vy.+Vz.*Vz\n",
    "b2 = by.*by.+by.*by.+bz.*bz\n",
    "    \n",
    "\n",
    "Npart=size(Ids,1)"
   ]
  },
  {
   "cell_type": "code",
   "execution_count": 10,
   "id": "e0436cd8",
   "metadata": {},
   "outputs": [
    {
     "data": {
      "text/plain": [
       "do_heat (generic function with 1 method)"
      ]
     },
     "execution_count": 10,
     "metadata": {},
     "output_type": "execute_result"
    }
   ],
   "source": [
    "function do_heat(b2,Nmax,d0)\n",
    "    #Nmax=128\n",
    "    #x=x.-minimum(x)\n",
    "    #y=y.-minimum(y)\n",
    "    Npart=size(b2)\n",
    "    Lbox=1.0#+maximum(x)\n",
    "    A = ones((Nmax, Nmax))*minimum(b2)\n",
    "    grid = ones((Nmax, Nmax))\n",
    "    #grid = [Set{Int}() for x=1:Nmax, y=1:Nmax];\n",
    "    #insert(grid) = p -> push!(grid[trunc(Int, p.x/Lbox*Nmax), trunc(Int, p.y/Lbox*Nmax)], p.n);\n",
    "    #foreach(insert(grid), data)\n",
    "    x=d0[\"\"]\n",
    "    for ind = 1:Npart\n",
    "        #print(i)\n",
    "        i,j = trunc(Int, x[ind]/Lbox*Nmax+1), trunc(Int, y[ind]/Lbox*Nmax+1)\n",
    "        #if(b2[ind]!= 0) \n",
    "           A[i,j] += b2[ind]\n",
    "           grid[i,j] += 1\n",
    "        #end \n",
    "    end\n",
    "    AA=log10.(A./grid)\n",
    "    #AA=(A./grid)\n",
    "    (AA)\n",
    "end"
   ]
  },
  {
   "cell_type": "code",
   "execution_count": 11,
   "id": "24001d4a",
   "metadata": {},
   "outputs": [
    {
     "ename": "LoadError",
     "evalue": "MethodError: no method matching do_heat(::Vector{Float32}, ::Int64)\n\u001b[0mClosest candidates are:\n\u001b[0m  do_heat(::Any, ::Any, \u001b[91m::Any\u001b[39m) at In[10]:1",
     "output_type": "error",
     "traceback": [
      "MethodError: no method matching do_heat(::Vector{Float32}, ::Int64)\n\u001b[0mClosest candidates are:\n\u001b[0m  do_heat(::Any, ::Any, \u001b[91m::Any\u001b[39m) at In[10]:1",
      "",
      "Stacktrace:",
      " [1] top-level scope",
      "   @ In[11]:2",
      " [2] eval",
      "   @ ./boot.jl:373 [inlined]",
      " [3] include_string(mapexpr::typeof(REPL.softscope), mod::Module, code::String, filename::String)",
      "   @ Base ./loading.jl:1196"
     ]
    }
   ],
   "source": [
    "gr()\n",
    "AA=do_heat(b2,128)\n",
    "#data = rand(21,100)\n",
    "#heatmap(1:size(data,1),\n",
    "#    1:size(data,2), data,\n",
    "#    c=cgrad([:blue, :white,:red, :yellow]),\n",
    "heatmap(1:Nmax,1:Nmax,AA,c=cgrad([:blue,:green,:yellow,:red]),\n",
    "    xlabel=\"x\", ylabel=\"y\")"
   ]
  },
  {
   "cell_type": "code",
   "execution_count": 12,
   "id": "10d8b9bb",
   "metadata": {},
   "outputs": [
    {
     "data": {
      "text/plain": [
       "read_snap (generic function with 1 method)"
      ]
     },
     "execution_count": 12,
     "metadata": {},
     "output_type": "execute_result"
    }
   ],
   "source": [
    "function read_snap(filename :: String)\n",
    "    \n",
    "    pos  = h5read(filename,\"PartType0/Coordinates\")\n",
    "    Bfl  = h5read(filename,\"PartType0/Bfield\") \n",
    "    Vel  = h5read(filename,\"PartType0/Velocities\")\n",
    "    #alp  = h5read(filename,\"PartType0/EPalpha\")\n",
    "    #bet  = h5read(filename,\"PartType0/EPbeta\")\n",
    "    Ids  = h5read(filename,\"PartType0/ParticleIDs\")\n",
    "    h    = h5read(filename,\"PartType0/SmoothingLengths\")\n",
    "    rho  = h5read(filename,\"PartType0/Densities\")\n",
    "    head = h5readattr(filename,\"Header\")\n",
    "\n",
    "    print(\"Leyendo \",filename,\" at time: \",head[\"Time\"],\"\\n\")\n",
    "    x = pos[1,:]\n",
    "    y = pos[2,:]\n",
    "    z = pos[3,:]\n",
    "    bx = Bfl[1,:]\n",
    "    by = Bfl[2,:]\n",
    "    bz = Bfl[3,:]\n",
    "    Vx = Vel[1,:]\n",
    "    Vy = Vel[2,:]\n",
    "    Vz = Vel[3,:]\n",
    "    \n",
    "    v2 = Vx.*Vx.+Vy.*Vy.+Vz.*Vz\n",
    "    b2 = by.*by.+by.*by.+bz.*bz\n",
    "    \n",
    "    Npart=size(Ids,1)\n",
    "        \n",
    "    print(\"Min x:\",minimum(x),\" / Max x:\",maximum(x),\"\\n\")\n",
    "    print(\"Min y:\",minimum(y),\" / Max y:\",maximum(y),\"\\n\")\n",
    "    print(\"Min z:\",minimum(z),\" / Max z:\",maximum(z),\"\\n\")\n",
    "    print(\"Min h:\",minimum(h),\" / Max h:\",maximum(h),\"\\n\")\n",
    "    (Dict(:H => head, :x=>pos, :bfl=> Bfl, :b2=>b2, :v=>Vel, :v2=>v2, :rho=>rho, :hsml=>h))\n",
    "end"
   ]
  },
  {
   "cell_type": "code",
   "execution_count": 9,
   "id": "3dc09545",
   "metadata": {},
   "outputs": [
    {
     "ename": "LoadError",
     "evalue": "UndefVarError: b2 not defined",
     "output_type": "error",
     "traceback": [
      "UndefVarError: b2 not defined",
      "",
      "Stacktrace:",
      " [1] top-level scope",
      "   @ In[9]:2",
      " [2] eval",
      "   @ ./boot.jl:360 [inlined]",
      " [3] include_string(mapexpr::typeof(REPL.softscope), mod::Module, code::String, filename::String)",
      "   @ Base ./loading.jl:1094"
     ]
    }
   ],
   "source": [
    "gr()\n",
    "AA=do_heat(b2,128)\n",
    "#data = rand(21,100)\n",
    "#heatmap(1:size(data,1),\n",
    "#    1:size(data,2), data,\n",
    "#    c=cgrad([:blue, :white,:red, :yellow]),\n",
    "heatmap(1:Nmax,1:Nmax,AA,c=cgrad([:blue,:green,:yellow,:red]),\n",
    "    xlabel=\"x\", ylabel=\"y\")"
   ]
  },
  {
   "cell_type": "code",
   "execution_count": null,
   "id": "ec128644",
   "metadata": {},
   "outputs": [
    {
     "name": "stdout",
     "output_type": "stream",
     "text": [
      "Leyendo OrszagTangVortex_0000.hdf5 at time: [0.0]\n",
      "Min x:2.127160264396577e-6 / Max x:0.999999891062553\n",
      "Min y:8.013688553368259e-7 / Max y:0.9999958223591977\n",
      "Min z:5.432824003781533e-6 / Max z:0.999995444904396\n",
      "Min h:0.021036636 / Max h:0.021175593\n"
     ]
    }
   ],
   "source": [
    "a=read_snap(\"OrszagTangVortex_0000.hdf5\")"
   ]
  },
  {
   "cell_type": "code",
   "execution_count": 402,
   "id": "2770c7f9",
   "metadata": {},
   "outputs": [
    {
     "data": {
      "text/plain": [
       "3-element Vector{Float64}:\n",
       " 0.010487415159069792\n",
       " 0.001463047389904197\n",
       " 0.009465307008254714"
      ]
     },
     "execution_count": 402,
     "metadata": {},
     "output_type": "execute_result"
    }
   ],
   "source": [
    "a[:x][:,1]"
   ]
  },
  {
   "cell_type": "code",
   "execution_count": 424,
   "id": "7aa23615",
   "metadata": {},
   "outputs": [
    {
     "name": "stdout",
     "output_type": "stream",
     "text": [
      "262144"
     ]
    },
    {
     "data": {
      "text/plain": [
       "0.14340757f0"
      ]
     },
     "execution_count": 424,
     "metadata": {},
     "output_type": "execute_result"
    }
   ],
   "source": [
    "lab=:b2\n",
    "sat=a[lab]\n",
    "print(size(sat,1))\n",
    "sat[size(sat,1)-3]"
   ]
  },
  {
   "cell_type": "code",
   "execution_count": null,
   "id": "f0ecf071",
   "metadata": {},
   "outputs": [],
   "source": []
  }
 ],
 "metadata": {
  "kernelspec": {
   "display_name": "Julia 1.7.1",
   "language": "julia",
   "name": "julia-1.7"
  },
  "language_info": {
   "file_extension": ".jl",
   "mimetype": "application/julia",
   "name": "julia",
   "version": "1.7.1"
  }
 },
 "nbformat": 4,
 "nbformat_minor": 5
}
